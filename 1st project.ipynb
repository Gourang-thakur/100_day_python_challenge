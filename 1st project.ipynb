{
 "cells": [
  {
   "cell_type": "code",
   "execution_count": 1,
   "id": "19fddfc4",
   "metadata": {},
   "outputs": [
    {
     "name": "stdout",
     "output_type": "stream",
     "text": [
      "welcome to the band name genrate programm \n",
      "\n",
      "what is your place where you grew up? \n",
      "sagar\n",
      "what is your pet name? \n",
      "jimmy\n",
      "Your band name could be sagar jimmy\n"
     ]
    }
   ],
   "source": [
    "print(\"welcome to the band name genrate programm \\n\")\n",
    "city = input(\"what is your place where you grew up? \\n\")\n",
    "pet = input(\"what is your pet name? \\n\")\n",
    "print(\"Your band name could be \" + city + \" \" + pet)"
   ]
  },
  {
   "cell_type": "code",
   "execution_count": null,
   "id": "9dce62f6",
   "metadata": {},
   "outputs": [],
   "source": []
  }
 ],
 "metadata": {
  "kernelspec": {
   "display_name": "Python 3 (ipykernel)",
   "language": "python",
   "name": "python3"
  },
  "language_info": {
   "codemirror_mode": {
    "name": "ipython",
    "version": 3
   },
   "file_extension": ".py",
   "mimetype": "text/x-python",
   "name": "python",
   "nbconvert_exporter": "python",
   "pygments_lexer": "ipython3",
   "version": "3.9.12"
  }
 },
 "nbformat": 4,
 "nbformat_minor": 5
}
